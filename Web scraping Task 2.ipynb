{
 "cells": [
  {
   "cell_type": "code",
   "execution_count": 5,
   "id": "90ad8f45",
   "metadata": {},
   "outputs": [
    {
     "name": "stdout",
     "output_type": "stream",
     "text": [
      "Enter the name of the person: sachin\n",
      "image 1/50\n",
      "image 2/50\n",
      "image 3/50\n",
      "image 4/50\n",
      "image 5/50\n",
      "image 6/50\n",
      "image 7/50\n",
      "image 8/50\n",
      "image 9/50\n",
      "image 10/50\n",
      "image 11/50\n",
      "image 12/50\n",
      "image 13/50\n",
      "image 14/50\n",
      "image 15/50\n",
      "image 16/50\n",
      "image 17/50\n",
      "image 18/50\n",
      "image 19/50\n",
      "image 20/50\n",
      "image 21/50\n",
      "image 22/50\n",
      "image 23/50\n",
      "image 24/50\n",
      "image 25/50\n",
      "image 26/50\n",
      "image 27/50\n",
      "image 28/50\n",
      "image 29/50\n",
      "image 30/50\n",
      "image 31/50\n",
      "image 32/50\n",
      "image 33/50\n",
      "Images Downloaded!\n"
     ]
    }
   ],
   "source": [
    "import requests\n",
    "from bs4 import BeautifulSoup\n",
    "import urllib.request\n",
    "import os\n",
    "\n",
    "def download_images(query, num_images):\n",
    "    directory = 'images'\n",
    "    if not os.path.exists(directory):\n",
    "        os.makedirs(directory)\n",
    "\n",
    "    query = query.replace(' ', '+')\n",
    "    url = f\"https://www.google.com/search?q={query}\"\n",
    "    headers = {'User-Agent': 'Mozilla/5.0 (Windows NT 10.0;Win64) AppleWebKit/537.36 (KHTML, like Gecko) Chrome/58.0.3029.110'}\n",
    "    response = requests.get(url, headers=headers)\n",
    "    soup = BeautifulSoup(response.text, 'html.parser')\n",
    "\n",
    "    images = soup.find_all('img')\n",
    "\n",
    "    count = 0\n",
    "    for image in images:\n",
    "        if count == num_images:\n",
    "            break\n",
    "\n",
    "        try:\n",
    "           \n",
    "            src = image['src']\n",
    "\n",
    "            \n",
    "            urllib.request.urlretrieve(src, f\"{directory}/{query}_{count}.jpeg\")\n",
    "\n",
    "            count += 1\n",
    "            print(f\"image {count}/{num_images}\")\n",
    "        except KeyError:\n",
    "            continue\n",
    "\n",
    "    print(\"Images Downloaded!\")\n",
    "person_name = input(\"Enter the name of the person: \")\n",
    "num_images = 50\n",
    "\n",
    "download_images(person_name, num_images)"
   ]
  },
  {
   "cell_type": "code",
   "execution_count": null,
   "id": "d3d7c200",
   "metadata": {},
   "outputs": [],
   "source": []
  },
  {
   "cell_type": "code",
   "execution_count": null,
   "id": "77caea25",
   "metadata": {},
   "outputs": [],
   "source": []
  },
  {
   "cell_type": "code",
   "execution_count": null,
   "id": "038f1550",
   "metadata": {},
   "outputs": [],
   "source": []
  },
  {
   "cell_type": "code",
   "execution_count": null,
   "id": "f0b8eaac",
   "metadata": {},
   "outputs": [],
   "source": [
    "\n"
   ]
  },
  {
   "cell_type": "code",
   "execution_count": null,
   "id": "57e93eda",
   "metadata": {},
   "outputs": [],
   "source": []
  }
 ],
 "metadata": {
  "kernelspec": {
   "display_name": "Python 3 (ipykernel)",
   "language": "python",
   "name": "python3"
  },
  "language_info": {
   "codemirror_mode": {
    "name": "ipython",
    "version": 3
   },
   "file_extension": ".py",
   "mimetype": "text/x-python",
   "name": "python",
   "nbconvert_exporter": "python",
   "pygments_lexer": "ipython3",
   "version": "3.9.13"
  }
 },
 "nbformat": 4,
 "nbformat_minor": 5
}
